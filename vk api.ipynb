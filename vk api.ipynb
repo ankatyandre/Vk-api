{
 "cells": [
  {
   "cell_type": "code",
   "execution_count": 1,
   "metadata": {
    "scrolled": false
   },
   "outputs": [],
   "source": [
    "import vk\n",
    "import pandas as pd\n",
    "import numpy as np\n",
    "import matplotlib.pyplot as plt\n",
    "try:\n",
    "    from ipywidgets import interact, IntSlider, fixed, FloatSlider\n",
    "except ImportError:\n",
    "    print(u'Так надо')\n"
   ]
  },
  {
   "cell_type": "code",
   "execution_count": 1,
   "metadata": {},
   "outputs": [],
   "source": [
    "token = 'token'"
   ]
  },
  {
   "cell_type": "code",
   "execution_count": 4,
   "metadata": {},
   "outputs": [],
   "source": [
    "session = vk.Session(access_token = token) \n",
    "api = vk.API(session) "
   ]
  },
  {
   "cell_type": "code",
   "execution_count": 5,
   "metadata": {},
   "outputs": [],
   "source": [
    "group = 'cmcsovet'"
   ]
  },
  {
   "cell_type": "code",
   "execution_count": 6,
   "metadata": {
    "scrolled": true
   },
   "outputs": [],
   "source": [
    "#items = api.groups.getMembers(group_id = group, v = 5.73)['items']"
   ]
  },
  {
   "cell_type": "code",
   "execution_count": 7,
   "metadata": {},
   "outputs": [],
   "source": [
    "from time import sleep"
   ]
  },
  {
   "cell_type": "code",
   "execution_count": 8,
   "metadata": {},
   "outputs": [],
   "source": [
    "items = []"
   ]
  },
  {
   "cell_type": "code",
   "execution_count": 9,
   "metadata": {},
   "outputs": [],
   "source": [
    "for i in range(0, int(pd.DataFrame(api.groups.getMembers(group_id = group, v = 5.73))['count'][0]/1000) + 1):\n",
    "    res2 = api.groups.getMembers(group_id = group, count = 1000, offset = 1000 * i, v = 5.73)\n",
    "    \n",
    "    items2 = res2['items']\n",
    "    items.extend(items2) # добавляем к первой сотне постов в items\n",
    "    sleep(10)"
   ]
  },
  {
   "cell_type": "code",
   "execution_count": 10,
   "metadata": {
    "scrolled": true
   },
   "outputs": [
    {
     "data": {
      "text/plain": [
       "1260"
      ]
     },
     "execution_count": 10,
     "metadata": {},
     "output_type": "execute_result"
    }
   ],
   "source": [
    "len(items)"
   ]
  },
  {
   "cell_type": "code",
   "execution_count": 11,
   "metadata": {},
   "outputs": [],
   "source": [
    "from tqdm import tqdm_notebook as tqdm"
   ]
  },
  {
   "cell_type": "code",
   "execution_count": 12,
   "metadata": {},
   "outputs": [],
   "source": [
    "from tqdm import trange"
   ]
  },
  {
   "cell_type": "code",
   "execution_count": 13,
   "metadata": {},
   "outputs": [
    {
     "data": {
      "application/vnd.jupyter.widget-view+json": {
       "model_id": "917dbfdceaf54d8e9e5f4b8dd83bf7e0",
       "version_major": 2,
       "version_minor": 0
      },
      "text/plain": [
       "HBox(children=(IntProgress(value=0, max=1260), HTML(value='')))"
      ]
     },
     "metadata": {},
     "output_type": "display_data"
    },
    {
     "name": "stdout",
     "output_type": "stream",
     "text": [
      "\n"
     ]
    }
   ],
   "source": [
    "dict_fr = {}\n",
    "count_privat = 0\n",
    "for i in tqdm(range(len(items))):\n",
    "    try:\n",
    "        dict_fr[i] = api.friends.get(user_id = items[i], v= 5.73, fields=['sex', 'city', 'university'])\n",
    "    except: \n",
    "        count_privat+=1\n"
   ]
  },
  {
   "cell_type": "code",
   "execution_count": 14,
   "metadata": {},
   "outputs": [
    {
     "data": {
      "text/plain": [
       "191"
      ]
     },
     "execution_count": 14,
     "metadata": {},
     "output_type": "execute_result"
    }
   ],
   "source": [
    "len(dict_fr)"
   ]
  },
  {
   "cell_type": "code",
   "execution_count": 15,
   "metadata": {},
   "outputs": [],
   "source": [
    "import json\n",
    "import os\n",
    "import networkx as nx"
   ]
  },
  {
   "cell_type": "code",
   "execution_count": 16,
   "metadata": {},
   "outputs": [],
   "source": [
    "g = nx.Graph()"
   ]
  },
  {
   "cell_type": "code",
   "execution_count": 17,
   "metadata": {},
   "outputs": [
    {
     "data": {
      "application/vnd.jupyter.widget-view+json": {
       "model_id": "7316f00f0c1d41939414c5ea671ae4de",
       "version_major": 2,
       "version_minor": 0
      },
      "text/plain": [
       "HBox(children=(IntProgress(value=0, max=1260), HTML(value='')))"
      ]
     },
     "metadata": {},
     "output_type": "display_data"
    },
    {
     "name": "stdout",
     "output_type": "stream",
     "text": [
      "\n"
     ]
    }
   ],
   "source": [
    "common_friends= dict()\n",
    "coun = 0\n",
    "for i in tqdm(range(len(items))):\n",
    "    try:\n",
    "        friends = dict_fr[i]['items']\n",
    "        g.add_nodes_from((fr['id'], {'sex': fr.get('sex', -1), \n",
    "                    'first_name': fr.get('first_name', -1), \n",
    "                    'last_name': fr.get('last_name', -1)}) for fr in friends)\n",
    "\n",
    "        for fr in friends:\n",
    "            g.add_edge(items[i], fr['id'])\n",
    "            try:\n",
    "                city =fr['city']['title']\n",
    "            except:\n",
    "                city = -1\n",
    "                \n",
    "            nx.set_node_attributes(g, {fr['id']: city}, 'city')\n",
    "            nx.set_node_attributes(g, {fr['id']: 0}, 'flag_dr')\n",
    "    except KeyError:\n",
    "        coun+=1"
   ]
  },
  {
   "cell_type": "code",
   "execution_count": 18,
   "metadata": {},
   "outputs": [
    {
     "data": {
      "text/plain": [
       "52569"
      ]
     },
     "execution_count": 18,
     "metadata": {},
     "output_type": "execute_result"
    }
   ],
   "source": [
    "len(g.nodes)"
   ]
  },
  {
   "cell_type": "code",
   "execution_count": 19,
   "metadata": {},
   "outputs": [
    {
     "data": {
      "application/vnd.jupyter.widget-view+json": {
       "model_id": "bb6bd5e57b5b4c258224a41f53af09b1",
       "version_major": 2,
       "version_minor": 0
      },
      "text/plain": [
       "HBox(children=(IntProgress(value=0, max=1260), HTML(value='')))"
      ]
     },
     "metadata": {},
     "output_type": "display_data"
    },
    {
     "name": "stdout",
     "output_type": "stream",
     "text": [
      "\n"
     ]
    }
   ],
   "source": [
    "for item in tqdm(items):\n",
    "    nx.set_node_attributes(g, {item: 1}, 'flag_dr')\n",
    "    try:\n",
    "        info = api.users.get(user_id = item, v = 5.73, fields = ['sex', 'city'])[0]\n",
    "        nx.set_node_attributes(g, {item: info['sex']}, 'sex')\n",
    "        nx.set_node_attributes(g, {item: info['city']['title']}, 'city')\n",
    "    except:\n",
    "        pass"
   ]
  },
  {
   "cell_type": "code",
   "execution_count": 20,
   "metadata": {},
   "outputs": [
    {
     "data": {
      "text/plain": [
       "66684"
      ]
     },
     "execution_count": 20,
     "metadata": {},
     "output_type": "execute_result"
    }
   ],
   "source": [
    "len(g.edges)"
   ]
  },
  {
   "cell_type": "code",
   "execution_count": 21,
   "metadata": {},
   "outputs": [
    {
     "data": {
      "text/plain": [
       "52569"
      ]
     },
     "execution_count": 21,
     "metadata": {},
     "output_type": "execute_result"
    }
   ],
   "source": [
    "len(g.nodes)"
   ]
  },
  {
   "cell_type": "code",
   "execution_count": 22,
   "metadata": {},
   "outputs": [],
   "source": [
    "nx.write_graphml(g, 'cmcsovet.graphml')"
   ]
  },
  {
   "cell_type": "code",
   "execution_count": 23,
   "metadata": {},
   "outputs": [],
   "source": [
    "nx.write_graphml(g, 'cmcsovet.gml')"
   ]
  },
  {
   "cell_type": "markdown",
   "metadata": {},
   "source": [
    "В целом ввиду тематики сообщества \"Студенческий совет ВМК МГУ\" большинство участников сгруппировано в центре: многие знают друг друга"
   ]
  },
  {
   "cell_type": "markdown",
   "metadata": {},
   "source": [
    "Алгоритм прорисовки"
   ]
  },
  {
   "cell_type": "markdown",
   "metadata": {},
   "source": [
    "<center><img src='1.png', width=1200></center>"
   ]
  },
  {
   "cell_type": "markdown",
   "metadata": {},
   "source": [
    "Добавьте изменение размера вершины в зависимости от степени вершины"
   ]
  },
  {
   "cell_type": "markdown",
   "metadata": {},
   "source": [
    "<center><img src='2.png', width=1200></center>"
   ]
  },
  {
   "cell_type": "markdown",
   "metadata": {},
   "source": [
    "Раскарсска по городам"
   ]
  },
  {
   "cell_type": "markdown",
   "metadata": {},
   "source": [
    "<center><img src='3.png', width=350></center>"
   ]
  },
  {
   "cell_type": "markdown",
   "metadata": {},
   "source": [
    "по городам очевидно все сгруппировано вокруг Москвы"
   ]
  },
  {
   "cell_type": "markdown",
   "metadata": {},
   "source": [
    "<center><img src='4.png', width=1200></center>"
   ]
  },
  {
   "cell_type": "markdown",
   "metadata": {},
   "source": [
    "раскраска по цвета"
   ]
  },
  {
   "cell_type": "markdown",
   "metadata": {},
   "source": [
    "<center><img src='5.png', width=350></center>"
   ]
  },
  {
   "cell_type": "markdown",
   "metadata": {},
   "source": [
    "по цветам"
   ]
  },
  {
   "cell_type": "markdown",
   "metadata": {},
   "source": [
    "<center><img src='6.png', width=1200></center>"
   ]
  },
  {
   "cell_type": "markdown",
   "metadata": {},
   "source": [
    "Возможно, перед тем как пойти дальше, стоит немного почитстить граф - с помощью [kcore](https://www.google.com/search?client=firefox-b-d&q=networkx+kcore)\n",
    "\n",
    "* Найдите наиболее влиятельные вершины с точки зрения degree, closeness и betweenness centrality\n",
    "* Выделите их на картинке в gephi"
   ]
  },
  {
   "cell_type": "code",
   "execution_count": 24,
   "metadata": {},
   "outputs": [],
   "source": [
    "gg = nx.k_core(g, k =10)"
   ]
  },
  {
   "cell_type": "code",
   "execution_count": 25,
   "metadata": {},
   "outputs": [
    {
     "data": {
      "text/plain": [
       "(353, 4098)"
      ]
     },
     "execution_count": 25,
     "metadata": {},
     "output_type": "execute_result"
    }
   ],
   "source": [
    "len(gg.nodes), len(gg.edges)"
   ]
  },
  {
   "cell_type": "code",
   "execution_count": 26,
   "metadata": {},
   "outputs": [],
   "source": [
    "degr_cent = nx.centrality.degree_centrality(gg)"
   ]
  },
  {
   "cell_type": "code",
   "execution_count": 27,
   "metadata": {},
   "outputs": [],
   "source": [
    "df = pd.DataFrame()\n",
    "df['id'], df['value'] = degr_cent.keys(), degr_cent.values()"
   ]
  },
  {
   "cell_type": "code",
   "execution_count": 28,
   "metadata": {
    "scrolled": true
   },
   "outputs": [],
   "source": [
    "id_degr = df[df['value']>0.12]['id'].values"
   ]
  },
  {
   "cell_type": "code",
   "execution_count": 29,
   "metadata": {},
   "outputs": [],
   "source": [
    "for id_d in id_degr:\n",
    "    nx.set_node_attributes(gg, {id_d: 1}, 'fl_degr')"
   ]
  },
  {
   "cell_type": "code",
   "execution_count": 31,
   "metadata": {},
   "outputs": [],
   "source": [
    "closeness_nodes = nx.centrality.closeness_centrality(gg)"
   ]
  },
  {
   "cell_type": "code",
   "execution_count": 32,
   "metadata": {},
   "outputs": [],
   "source": [
    "df_cent = pd.DataFrame()\n",
    "df_cent['id'], df_cent['value'] = closeness_nodes.keys(), closeness_nodes.values()"
   ]
  },
  {
   "cell_type": "code",
   "execution_count": 33,
   "metadata": {
    "scrolled": true
   },
   "outputs": [
    {
     "data": {
      "text/plain": [
       "41"
      ]
     },
     "execution_count": 33,
     "metadata": {},
     "output_type": "execute_result"
    }
   ],
   "source": [
    "len(df_cent[df_cent['value']>0.49])"
   ]
  },
  {
   "cell_type": "code",
   "execution_count": 34,
   "metadata": {},
   "outputs": [],
   "source": [
    "id_cent = df_cent[df_cent['value']>0.49]['id'].values"
   ]
  },
  {
   "cell_type": "code",
   "execution_count": 35,
   "metadata": {},
   "outputs": [],
   "source": [
    "for id_c in id_cent:\n",
    "    nx.set_node_attributes(gg, {id_c: 1}, 'fl_cent')"
   ]
  },
  {
   "cell_type": "code",
   "execution_count": 37,
   "metadata": {},
   "outputs": [],
   "source": [
    "betw_nodes = nx.betweenness_centrality(gg) "
   ]
  },
  {
   "cell_type": "code",
   "execution_count": 44,
   "metadata": {},
   "outputs": [],
   "source": [
    "df_betw = pd.DataFrame()\n",
    "df_betw['id'], df_betw['value'] = betw_nodes.keys(), betw_nodes.values()"
   ]
  },
  {
   "cell_type": "code",
   "execution_count": 49,
   "metadata": {},
   "outputs": [
    {
     "data": {
      "text/plain": [
       "33"
      ]
     },
     "execution_count": 49,
     "metadata": {},
     "output_type": "execute_result"
    }
   ],
   "source": [
    "len(df_betw[df_betw['value']>0.008])"
   ]
  },
  {
   "cell_type": "code",
   "execution_count": 50,
   "metadata": {},
   "outputs": [],
   "source": [
    "df_betw = df_betw[df_betw['value']>0.008]['id'].values"
   ]
  },
  {
   "cell_type": "code",
   "execution_count": 51,
   "metadata": {},
   "outputs": [],
   "source": [
    "for id_c in df_betw:\n",
    "    nx.set_node_attributes(gg, {id_c: 1}, 'fl_betw')"
   ]
  },
  {
   "cell_type": "code",
   "execution_count": 52,
   "metadata": {},
   "outputs": [
    {
     "data": {
      "text/plain": [
       "NodeDataView({23107592: {'sex': 2, 'first_name': 'Роман', 'last_name': 'Куцев', 'city': 'Москва', 'flag_dr': 1}, 51628040: {'sex': 2, 'first_name': 'Иван', 'last_name': 'Зотин', 'city': -1, 'flag_dr': 0}, 140335112: {'sex': 2, 'first_name': 'Егор', 'last_name': 'Задорин', 'city': 'Москва', 'flag_dr': 0}, 75501589: {'sex': 1, 'first_name': 'Линок', 'last_name': 'Марьина', 'city': 'Москва', 'flag_dr': 1}, 152551448: {'sex': 2, 'first_name': 'Андрей', 'last_name': 'Астапов', 'city': 'Москва', 'flag_dr': 1}, 75151388: {'sex': 1, 'first_name': 'Оля', 'last_name': 'Фортученко', 'city': -1, 'flag_dr': 0}, 19240995: {'sex': 1, 'first_name': 'Анна', 'last_name': 'Гончарова', 'city': 'Москва', 'flag_dr': 1}, 22788133: {'sex': 1, 'first_name': 'Александра', 'last_name': 'Подкина', 'city': 'Москва', 'flag_dr': 0}, 295653413: {'sex': 2, 'first_name': 'Career', 'last_name': 'Msu', 'city': 'Москва', 'flag_dr': 0}, 51873831: {'sex': 2, 'first_name': 'Александр', 'last_name': 'Линник', 'city': 'Королёв', 'flag_dr': 1}, 137556023: {'sex': 1, 'first_name': 'Софья', 'last_name': 'Фаддеева', 'city': 'Москва', 'flag_dr': 0}, 71751736: {'sex': 2, 'first_name': 'Алексей', 'last_name': 'Яндутов', 'city': 'Москва', 'flag_dr': 1}, 345681992: {'sex': 2, 'first_name': 'Антон', 'last_name': 'Бодров', 'city': 'Рязань', 'flag_dr': 1}, 428822601: {'sex': 1, 'first_name': 'Оля', 'last_name': 'Беляева', 'city': -1, 'flag_dr': 1, 'fl_degr': 1, 'fl_betw': 1}, 22724684: {'sex': 1, 'first_name': 'Нина', 'last_name': 'Смирнова', 'city': -1, 'flag_dr': 0}, 30404684: {'sex': 2, 'first_name': 'Георгий', 'last_name': 'Кормаков', 'city': 'Москва', 'flag_dr': 1, 'fl_betw': 1}, 133484623: {'sex': 1, 'first_name': 'Евгения', 'last_name': 'Рязанова', 'city': 'Москва', 'flag_dr': 0}, 33685590: {'sex': 2, 'first_name': 'Никита', 'last_name': 'Морозов', 'city': 'Москва', 'flag_dr': 1}, 63199318: {'sex': 2, 'first_name': 'Александр', 'last_name': 'Деев', 'city': 'Москва', 'flag_dr': 1}, 11259997: {'flag_dr': 1}, 91256927: {'sex': 2, 'first_name': 'Алексей', 'last_name': 'Морозов', 'city': 'Москва', 'flag_dr': 0}, 58470497: {'sex': 2, 'first_name': 'Никита', 'last_name': 'Алёшин', 'city': 'Нефтекамск', 'flag_dr': 1}, 158548069: {'sex': 2, 'first_name': 'Антон', 'last_name': 'Лабутин', 'city': 'Москва', 'flag_dr': 1}, 25182311: {'sex': 2, 'first_name': 'Сергей', 'last_name': 'Чепарухин', 'city': 'Москва', 'flag_dr': 1}, 34758762: {'sex': 1, 'first_name': 'Вера', 'last_name': 'Разумова', 'city': 'Жуковский', 'flag_dr': 1}, 160483442: {'sex': 1, 'first_name': 'Екатерина', 'last_name': 'Соколова', 'city': 'Рыбинск', 'flag_dr': 1, 'fl_degr': 1, 'fl_cent': 1, 'fl_betw': 1}, 53282949: {'sex': 1, 'first_name': 'Оля', 'last_name': 'Зиновьева', 'city': 'Москва', 'flag_dr': 1}, 167016581: {'sex': 2, 'first_name': 'Глеб', 'last_name': 'Гладков', 'city': -1, 'flag_dr': 0}, 35152008: {'sex': 1, 'first_name': 'Анастасия', 'last_name': 'Анциферова', 'city': 'Москва', 'flag_dr': 1}, 110569620: {'sex': 1, 'first_name': 'Юля', 'last_name': 'Романова', 'city': -1, 'flag_dr': 1}, 50776233: {'sex': 1, 'first_name': 'Настя', 'last_name': 'Запорожец', 'city': 'Москва', 'flag_dr': 0}, 186718378: {'sex': 1, 'first_name': 'Верочка', 'last_name': 'Радаева', 'city': 'Москва', 'flag_dr': 0}, 54626481: {'sex': 2, 'first_name': 'Олег', 'last_name': 'Горохов', 'city': 'Москва', 'flag_dr': 1}, 19232952: {'sex': 2, 'first_name': 'Дмитрий', 'last_name': 'Малахов', 'city': 'Москва', 'flag_dr': 0}, 62501050: {'sex': 2, 'first_name': 'Николай', 'last_name': 'Арбузов', 'city': 'Электросталь', 'flag_dr': 1}, 39309499: {'sex': 2, 'first_name': 'Павел', 'last_name': 'Ханин', 'city': 'Москва', 'flag_dr': 0}, 213477565: {'sex': 2, 'first_name': 'Стас', 'last_name': 'Зотов', 'city': 'Димитровград', 'flag_dr': 0}, 29276353: {'sex': 2, 'first_name': 'Даниил', 'last_name': 'Киреев', 'city': 'Москва', 'flag_dr': 0}, 23369923: {'sex': 2, 'first_name': 'Никита', 'last_name': 'Муромцев', 'city': 'Москва', 'flag_dr': 1}, 16937158: {'sex': 2, 'first_name': 'Владислав', 'last_name': 'Заварзин', 'city': 'Москва', 'flag_dr': 1, 'fl_degr': 1, 'fl_cent': 1, 'fl_betw': 1}, 135387343: {'sex': 1, 'first_name': 'Диана', 'last_name': 'Кайбичева', 'city': 'Москва', 'flag_dr': 1}, 224854235: {'sex': 1, 'first_name': 'Даша', 'last_name': 'Скворцова', 'city': 'Коломна', 'flag_dr': 1}, 9928934: {'sex': 1, 'first_name': 'Маша', 'last_name': 'Холкина', 'city': 'Москва', 'flag_dr': 0, 'fl_cent': 1}, 159797499: {'sex': 1, 'first_name': 'Анна', 'last_name': 'Телегина', 'city': 'Москва', 'flag_dr': 1}, 50983169: {'sex': 1, 'first_name': 'Екатерина', 'last_name': 'Доросева', 'city': 'Москва', 'flag_dr': 1, 'fl_cent': 1}, 11196677: {'sex': 2, 'first_name': 'Никита', 'last_name': 'Багров', 'city': 'Москва', 'flag_dr': 0}, 43264272: {'sex': 2, 'first_name': 'Ренат', 'last_name': 'Рахматуллин', 'city': 'Москва', 'flag_dr': 0}, 13889816: {'sex': 1, 'first_name': 'Кристина', 'last_name': 'Енокян', 'city': 'Москва', 'flag_dr': 1}, 118239517: {'sex': 2, 'first_name': 'Шамиль', 'last_name': 'Латыпов', 'city': 'Уфа', 'flag_dr': 1}, 31150372: {'sex': 2, 'first_name': 'Александр', 'last_name': 'Цыганков', 'city': 'Москва', 'flag_dr': 1}, 40505649: {'sex': 2, 'first_name': 'Дмитрий', 'last_name': 'Коптелов', 'city': 'Москва', 'flag_dr': 1}, 16720184: {'sex': 2, 'first_name': 'Саша', 'last_name': 'Паркин', 'city': 'Москва', 'flag_dr': 0}, 10873145: {'sex': 2, 'first_name': 'Евгений', 'last_name': 'Соколов', 'city': 'Москва', 'flag_dr': 1}, 457265466: {'sex': 2, 'first_name': 'Here', 'last_name': 'Bot', 'city': -1, 'flag_dr': 0}, 83472701: {'sex': 1, 'first_name': 'Александра', 'last_name': 'Степанюк', 'city': 'Москва', 'flag_dr': 1}, 158712127: {'sex': 2, 'first_name': 'Ivan', 'last_name': 'Shulyugin', 'city': 'Москва', 'flag_dr': 1}, 22110529: {'sex': 2, 'first_name': 'Игорь', 'last_name': 'Иванов', 'city': 'Москва', 'flag_dr': 1}, 182110533: {'sex': 2, 'first_name': 'Александр', 'last_name': 'Ларионов', 'city': 'Москва', 'flag_dr': 1, 'fl_degr': 1, 'fl_betw': 1}, 81469776: {'sex': 2, 'first_name': 'Никита', 'last_name': 'Юдин', 'city': 'Москва', 'flag_dr': 1}, 30566739: {'sex': 1, 'first_name': 'Евгения', 'last_name': 'Туманова', 'city': 'Москва', 'flag_dr': 1}, 9752915: {'sex': 1, 'first_name': 'Анастасия', 'last_name': 'Кислякова', 'city': -1, 'flag_dr': 0}, 349176151: {'sex': 2, 'first_name': 'Влад', 'last_name': 'Офицеров', 'city': -1, 'flag_dr': 1}, 299356: {'sex': 2, 'first_name': 'Евгений', 'last_name': 'Корныхин', 'city': 'Москва', 'flag_dr': 1}, 163361126: {'sex': 2, 'first_name': 'Константин', 'last_name': 'Кожемяков', 'city': 'Москва', 'flag_dr': 1}, 267979116: {'sex': 2, 'first_name': 'Александр', 'last_name': 'Смирнов', 'city': -1, 'flag_dr': 1}, 55544174: {'sex': 2, 'first_name': 'Азат', 'last_name': 'Тулебаев', 'city': 'Москва', 'flag_dr': 0}, 7410032: {'sex': 2, 'first_name': 'Сергей', 'last_name': 'Сетченков', 'city': 'Москва', 'flag_dr': 0}, 110643568: {'sex': 2, 'first_name': 'Евгений', 'last_name': 'Бобров', 'city': -1, 'flag_dr': 1}, 7565684: {'sex': 1, 'first_name': 'Ирина', 'last_name': 'Лагода', 'city': 'Москва', 'flag_dr': 0}, 55312758: {'sex': 2, 'first_name': 'Александр', 'last_name': 'Синюков', 'city': 'Москва', 'flag_dr': 1, 'fl_cent': 1}, 51454330: {'sex': 2, 'first_name': 'Тимур', 'last_name': 'Гарипов', 'city': 'Казань', 'flag_dr': 1}, 41957756: {'sex': 1, 'first_name': 'Valerie', 'last_name': 'Malenkova', 'city': 'Москва', 'flag_dr': 1}, 2855294: {'sex': 2, 'first_name': 'Иван', 'last_name': 'Ташков', 'city': 'Москва', 'flag_dr': 1}, 349940100: {'sex': 2, 'first_name': 'Евгений', 'last_name': 'Ростовский', 'city': 'Москва', 'flag_dr': 1}, 17707397: {'sex': 1, 'first_name': 'Маша', 'last_name': 'Огнева', 'city': 'Москва', 'flag_dr': 1, 'fl_degr': 1, 'fl_cent': 1, 'fl_betw': 1}, 15214983: {'sex': 2, 'first_name': 'Владимир', 'last_name': 'Жуков', 'city': 'Новосибирск', 'flag_dr': 1}, 214727055: {'sex': 1, 'first_name': 'Варя', 'last_name': 'Ахапкина', 'city': 'Москва', 'flag_dr': 0}, 18368927: {'sex': 1, 'first_name': 'Иришка', 'last_name': 'Огнева', 'city': -1, 'flag_dr': 1}, 9359783: {'sex': 2, 'first_name': 'DELETED', 'last_name': '', 'city': -1, 'flag_dr': 1}, 47104429: {'sex': 2, 'first_name': 'Юрий', 'last_name': 'Журихин', 'city': 'Москва', 'flag_dr': 1, 'fl_cent': 1, 'fl_betw': 1}, 87302580: {'sex': 1, 'first_name': 'Валерия', 'last_name': 'Тарасова', 'city': 'Москва', 'flag_dr': 1}, 948669: {'sex': 2, 'first_name': 'Евгений', 'last_name': 'Донцов', 'city': 'Москва', 'flag_dr': 1, 'fl_degr': 1, 'fl_cent': 1}, 9941454: {'sex': 1, 'first_name': 'Марина', 'last_name': 'Купина', 'city': 'Москва', 'flag_dr': 0}, 69323214: {'sex': 1, 'first_name': 'Злата', 'last_name': 'Мешина', 'city': 'Москва', 'flag_dr': 1}, 289921489: {'sex': 2, 'first_name': 'Артём', 'last_name': 'Котляревский', 'city': -1, 'flag_dr': 0}, 425282002: {'sex': 1, 'first_name': 'Кристина', 'last_name': 'Перловка', 'city': -1, 'flag_dr': 0}, 86202836: {'sex': 2, 'first_name': 'Вадим', 'last_name': 'Бабаков', 'city': 'Москва', 'flag_dr': 1}, 108765655: {'sex': 1, 'first_name': 'Катерина', 'last_name': 'Чехонина', 'city': -1, 'flag_dr': 1}, 2013657: {'sex': 1, 'first_name': 'Катя', 'last_name': 'Шестимерова', 'city': 'Москва', 'flag_dr': 1, 'fl_degr': 1, 'fl_cent': 1, 'fl_betw': 1}, 199717343: {'sex': 2, 'first_name': 'Макар', 'last_name': 'Попов', 'city': 'Тольятти', 'flag_dr': 1}, 47217120: {'sex': 2, 'first_name': 'Даниил', 'last_name': 'Андрианов', 'city': 'Москва', 'flag_dr': 1}, 59220455: {'sex': 2, 'first_name': 'Никита', 'last_name': 'Богданов', 'city': 'Москва', 'flag_dr': 1}, 28201449: {'sex': 2, 'first_name': 'Абдулла', 'last_name': 'Гайбуллаев', 'city': 'Москва', 'flag_dr': 0}, 40464887: {'sex': 2, 'first_name': 'Алексей', 'last_name': 'Берговин', 'city': 'Подольск', 'flag_dr': 1}, 10357240: {'sex': 2, 'first_name': 'Никита', 'last_name': 'Адамов', 'city': 'Москва', 'flag_dr': 0}, 40049160: {'sex': 2, 'first_name': 'Денис', 'last_name': 'Медведев', 'city': 'Москва', 'flag_dr': 1}, 21838346: {'sex': 2, 'first_name': 'Сергей', 'last_name': 'Агуленко', 'city': 'Москва', 'flag_dr': 1}, 104636941: {'sex': 2, 'first_name': 'Максим', 'last_name': 'Федосеев', 'city': -1, 'flag_dr': 1}, 86073904: {'sex': 2, 'first_name': 'Александр', 'last_name': 'Шалудин', 'city': 'Москва', 'flag_dr': 1}, 139371066: {'sex': 2, 'first_name': 'Serzgh', 'last_name': 'Bigulov', 'city': 'Москва', 'flag_dr': 1}, 171743803: {'sex': 1, 'first_name': 'Аня', 'last_name': 'Галикеева', 'city': 'Москва', 'flag_dr': 0}, 93956670: {'sex': 2, 'first_name': 'Игорь', 'last_name': 'Баженов', 'city': 'Тамбов', 'flag_dr': 1}, 15598144: {'sex': 2, 'first_name': 'Владимир', 'last_name': 'Бугаевский', 'city': 'Москва', 'flag_dr': 0}, 2624: {'sex': 2, 'first_name': 'Дмитрий', 'last_name': 'Кронберг', 'city': 'Москва', 'flag_dr': 1, 'fl_degr': 1, 'fl_cent': 1, 'fl_betw': 1}, 9222726: {'sex': 2, 'first_name': 'Илья', 'last_name': 'Коровин', 'city': 'Москва', 'flag_dr': 0}, 15827527: {'sex': 2, 'first_name': 'Александр', 'last_name': 'Агуленко', 'city': 'Москва', 'flag_dr': 1}, 50571848: {'sex': 2, 'first_name': 'Миша', 'last_name': 'Попов', 'city': 'Обнинск', 'flag_dr': 0}, 125663817: {'sex': 1, 'first_name': 'Даша', 'last_name': 'Полежаева', 'city': -1, 'flag_dr': 1}, 30618186: {'sex': 2, 'first_name': 'Гадель', 'last_name': 'Закиров', 'city': 'Казань', 'flag_dr': 1}, 80638540: {'sex': 1, 'first_name': 'Света', 'last_name': 'Крыжановская', 'city': 'Москва', 'flag_dr': 1, 'fl_degr': 1}, 39586381: {'sex': 2, 'first_name': 'Алексей', 'last_name': 'Резницкий', 'city': 'Москва', 'flag_dr': 0}, 17883726: {'sex': 1, 'first_name': 'Анастасия', 'last_name': 'Байкалова', 'city': 'Москва', 'flag_dr': 1, 'fl_degr': 1, 'fl_cent': 1}, 50424399: {'sex': 1, 'first_name': 'Ирина', 'last_name': 'Пучкина', 'city': 'Москва', 'flag_dr': 1, 'fl_cent': 1}, 26425939: {'sex': 1, 'first_name': 'Наталья', 'last_name': 'Язовская', 'city': 'Москва', 'flag_dr': 1, 'fl_cent': 1}, 51905107: {'sex': 1, 'first_name': 'Екатерина', 'last_name': 'Овсянникова', 'city': 'Москва', 'flag_dr': 1}, 167303777: {'sex': 1, 'first_name': 'Оля', 'last_name': 'Сороколетова', 'city': -1, 'flag_dr': 1}, 177773163: {'sex': 2, 'first_name': 'Даня', 'last_name': 'Уфимцев', 'city': 'Москва', 'flag_dr': 1}, 84148848: {'sex': 1, 'first_name': 'Оля', 'last_name': 'Гончарова', 'city': -1, 'flag_dr': 0}, 30603904: {'sex': 1, 'first_name': 'Вера', 'last_name': 'Белова', 'city': 'Москва', 'flag_dr': 0}, 114485899: {'sex': 2, 'first_name': 'Владимир', 'last_name': 'Дубинин', 'city': -1, 'flag_dr': 1}, 16323214: {'sex': 2, 'first_name': 'Иван', 'last_name': 'Петухов', 'city': 'Москва', 'flag_dr': 1}, 114889375: {'sex': 1, 'first_name': 'Екатерина', 'last_name': 'Семакова', 'city': 'Екатеринбург', 'flag_dr': 0}, 45079211: {'sex': 1, 'first_name': 'Яна', 'last_name': 'Бутримайте', 'city': 'Москва', 'flag_dr': 1}, 56384178: {'sex': 2, 'first_name': 'Дилшод', 'last_name': 'Сапаев', 'city': 'Пенза', 'flag_dr': 0}, 160379585: {'sex': 1, 'first_name': 'Таня', 'last_name': 'Озерова', 'city': 'Москва', 'flag_dr': 1, 'fl_degr': 1, 'fl_betw': 1}, 72135369: {'sex': 1, 'first_name': 'Анна', 'last_name': 'Блохина', 'city': 'Москва', 'flag_dr': 0}, 33587917: {'sex': 2, 'first_name': 'Кирилл', 'last_name': 'Голяков', 'city': -1, 'flag_dr': 0}, 6750930: {'sex': 1, 'first_name': 'Лера', 'last_name': 'Прокопенко', 'city': 'Москва', 'flag_dr': 1}, 227420898: {'sex': 1, 'first_name': 'Дарья', 'last_name': 'Плужникова', 'city': -1, 'flag_dr': 1}, 120914661: {'sex': 1, 'first_name': 'Даша', 'last_name': 'Ильясова', 'city': -1, 'flag_dr': 0}, 6453997: {'sex': 1, 'first_name': 'Юлия', 'last_name': 'Гусева', 'city': 'Москва', 'flag_dr': 0, 'fl_cent': 1}, 5528312: {'sex': 2, 'first_name': 'Денис', 'last_name': 'Дорожкин', 'city': 'Москва', 'flag_dr': 1}, 365548289: {'sex': 2, 'first_name': 'Василий', 'last_name': 'Уханов', 'city': -1, 'flag_dr': 0}, 88423193: {'sex': 2, 'first_name': 'Руслан', 'last_name': 'Габдуллин', 'city': 'Москва', 'flag_dr': 1}, 221926174: {'sex': 2, 'first_name': 'Стас', 'last_name': 'Уразов', 'city': 'Москва', 'flag_dr': 1}, 3351342: {'sex': 2, 'first_name': 'Александр', 'last_name': 'Ветров', 'city': 'Москва', 'flag_dr': 0}, 14818097: {'sex': 2, 'first_name': 'Илья', 'last_name': 'Широких', 'city': 'Москва', 'flag_dr': 1}, 233052977: {'sex': 1, 'first_name': 'Екатерина', 'last_name': 'Петрусова', 'city': -1, 'flag_dr': 1}, 136051508: {'sex': 1, 'first_name': 'Дарья', 'last_name': 'Нечитайлова', 'city': 'Москва', 'flag_dr': 1}, 52118332: {'sex': 1, 'first_name': 'Надя', 'last_name': 'Аношина', 'city': 'Москва', 'flag_dr': 1, 'fl_degr': 1}, 20290366: {'sex': 1, 'first_name': 'Любовь', 'last_name': 'Воцалевская', 'city': -1, 'flag_dr': 1}, 824131: {'sex': 2, 'first_name': 'Евгений', 'last_name': 'Денисов', 'city': 'Москва', 'flag_dr': 1}, 9319237: {'sex': 1, 'first_name': 'Екатерина', 'last_name': 'Менщикова', 'city': 'Санкт-Петербург', 'flag_dr': 0}, 13628232: {'sex': 2, 'first_name': 'Алексей', 'last_name': 'Колосов', 'city': 'Москва', 'flag_dr': 1, 'fl_degr': 1, 'fl_cent': 1, 'fl_betw': 1}, 8121161: {'sex': 2, 'first_name': 'Андрей', 'last_name': 'Квасов', 'city': 'Москва', 'flag_dr': 0}, 118602571: {'sex': 2, 'first_name': 'Илья', 'last_name': 'Тишков', 'city': 'Самара', 'flag_dr': 1, 'fl_degr': 1, 'fl_cent': 1, 'fl_betw': 1}, 166941528: {'sex': 2, 'first_name': 'Александр', 'last_name': 'Назаренко', 'city': 'Москва', 'flag_dr': 1}, 135132004: {'sex': 1, 'first_name': 'Аня', 'last_name': 'Антипина', 'city': 'Москва', 'flag_dr': 1}, 22453110: {'sex': 2, 'first_name': 'Александр', 'last_name': 'Соболев', 'city': 'Москва', 'flag_dr': 1}, 10341254: {'sex': 1, 'first_name': 'Александра', 'last_name': 'Зайцева', 'city': -1, 'flag_dr': 1}, 137231241: {'sex': 2, 'first_name': 'Ярослав', 'last_name': 'Салимов', 'city': -1, 'flag_dr': 1}, 158960523: {'sex': 1, 'first_name': 'Юлия', 'last_name': 'Васильева', 'city': 'Москва', 'flag_dr': 1, 'fl_degr': 1, 'fl_cent': 1, 'fl_betw': 1}, 112958367: {'sex': 1, 'first_name': 'Анастасия', 'last_name': 'Коротчук', 'city': 'Москва', 'flag_dr': 1}, 21830566: {'sex': 1, 'first_name': 'Гюзель', 'last_name': 'Ахметова', 'city': 'Чебоксары', 'flag_dr': 1, 'fl_degr': 1, 'fl_cent': 1, 'fl_betw': 1}, 53199791: {'sex': 2, 'first_name': 'Боря', 'last_name': 'Шелудько', 'city': 'Москва', 'flag_dr': 1}, 80583599: {'sex': 2, 'first_name': 'Дмитрий', 'last_name': 'Люков', 'city': 'Москва', 'flag_dr': 1}, 152867776: {'sex': 1, 'first_name': 'Юлия', 'last_name': 'Задорожная', 'city': 'Светлоград', 'flag_dr': 1}, 55423942: {'sex': 1, 'first_name': 'Алина', 'last_name': 'Денисова', 'city': 'Москва', 'flag_dr': 0}, 200623056: {'sex': 1, 'first_name': 'Аня', 'last_name': 'Маккей', 'city': 'Москва', 'flag_dr': 1}, 16444373: {'sex': 2, 'first_name': 'Владимир', 'last_name': 'Евграфов', 'city': 'Москва', 'flag_dr': 1}, 320744409: {'sex': 2, 'first_name': 'Женя', 'last_name': 'Купцов', 'city': 'Чебоксары', 'flag_dr': 1}, 19176414: {'sex': 2, 'first_name': 'Андрей', 'last_name': 'Васильченко', 'city': 'Москва', 'flag_dr': 0}, 78793708: {'sex': 1, 'first_name': 'Аня', 'last_name': 'Лойко', 'city': 'Москва', 'flag_dr': 1}, 50392045: {'sex': 1, 'first_name': 'Наталья', 'last_name': 'Маркитантова', 'city': 'Юбилейный', 'flag_dr': 1}, 15121395: {'sex': 1, 'first_name': 'Анастасия', 'last_name': 'Курашова', 'city': 'Москва', 'flag_dr': 1}, 182703092: {'sex': 2, 'first_name': 'Сергей', 'last_name': 'Мирзоев', 'city': 'Москва', 'flag_dr': 1}, 186303477: {'sex': 2, 'first_name': 'Родион', 'last_name': 'Костин', 'city': 'Москва', 'flag_dr': 0}, 6028289: {'sex': 1, 'first_name': 'Лиза', 'last_name': 'Табакарь', 'city': 'Москва', 'flag_dr': 0}, 152140801: {'sex': 2, 'first_name': 'Антон', 'last_name': 'Афонин', 'city': 'Москва', 'flag_dr': 1}, 200340484: {'sex': 2, 'first_name': 'Антон', 'last_name': 'Тарасов', 'city': 'Москва', 'flag_dr': 1}, 32355343: {'sex': 2, 'first_name': 'Артём', 'last_name': 'Тангаев', 'city': 'Москва', 'flag_dr': 1}, 109767705: {'sex': 1, 'first_name': 'Полина', 'last_name': 'Кожух', 'city': 'Москва', 'flag_dr': 1}, 1074205: {'sex': 1, 'first_name': 'Дарья', 'last_name': 'Чашкина', 'city': 'Москва', 'flag_dr': 1}, 119471136: {'sex': 2, 'first_name': 'Тамерлан', 'last_name': 'Сагиндыков', 'city': 'Москва', 'flag_dr': 1, 'fl_degr': 1}, 276659241: {'sex': 1, 'first_name': 'Анна', 'last_name': 'Руслановна', 'city': -1, 'flag_dr': 1, 'fl_cent': 1}, 1627179: {'sex': 2, 'first_name': 'Дмитрий', 'last_name': 'Ковалёв', 'city': 'Москва', 'flag_dr': 0}, 36762667: {'sex': 1, 'first_name': 'Дарья', 'last_name': 'Виноградова', 'city': 'Москва', 'flag_dr': 1}, 131642427: {'sex': 2, 'first_name': 'Азиз', 'last_name': 'Тагаев', 'city': 'Москва', 'flag_dr': 0}, 134200386: {'sex': 2, 'first_name': 'Андрей', 'last_name': 'Дё', 'city': 'Москва', 'flag_dr': 1, 'fl_degr': 1}, 100346950: {'sex': 1, 'first_name': 'Катюша', 'last_name': 'Юдова', 'city': 'Москва', 'flag_dr': 1}, 168082504: {'sex': 2, 'first_name': 'Артём', 'last_name': 'Вешкин', 'city': 'Москва', 'flag_dr': 1, 'fl_degr': 1}, 76737609: {'sex': 1, 'first_name': 'Ирина', 'last_name': 'Авакянц', 'city': 'Москва', 'flag_dr': 1}, 31835219: {'sex': 1, 'first_name': 'Александра', 'last_name': 'Жорина', 'city': 'Москва', 'flag_dr': 1}, 54090846: {'sex': 1, 'first_name': 'Ирина', 'last_name': 'Абрамова', 'city': 'Москва', 'flag_dr': 1}, 12964970: {'sex': 2, 'first_name': 'Даниил', 'last_name': 'Захаров', 'city': 'Москва', 'flag_dr': 1}, 14425194: {'sex': 2, 'first_name': 'Владимир', 'last_name': 'Лютов', 'city': 'Москва', 'flag_dr': 1}, 17857646: {'sex': 1, 'first_name': 'Валентина', 'last_name': 'Шумовская', 'city': -1, 'flag_dr': 0}, 108725362: {'sex': 2, 'first_name': 'Рома', 'last_name': 'Горбунов', 'city': 'Москва', 'flag_dr': 1}, 56513655: {'sex': 2, 'first_name': 'Михаил', 'last_name': 'Труб', 'city': 'Москва', 'flag_dr': 0}, 17851514: {'sex': 2, 'first_name': 'Денис', 'last_name': 'Ануприенко', 'city': 'Москва', 'flag_dr': 1}, 203396225: {'sex': 2, 'first_name': 'Ильяс', 'last_name': 'Кинзябаев', 'city': 'Москва', 'flag_dr': 1}, 138290305: {'sex': 1, 'first_name': 'Даша', 'last_name': 'Разживина', 'city': 'Нижний Новгород', 'flag_dr': 0}, 96873605: {'sex': 1, 'first_name': 'Анастасия', 'last_name': 'Чичаева', 'city': 'Москва', 'flag_dr': 1}, 153760902: {'sex': 2, 'first_name': 'Дмитрий', 'last_name': 'Черкашинъ', 'city': 'Москва', 'flag_dr': 1, 'fl_cent': 1}, 238302348: {'sex': 1, 'first_name': 'Рамина', 'last_name': 'Мударова', 'city': 'Москва', 'flag_dr': 0}, 150766736: {'sex': 1, 'first_name': 'Татьяна', 'last_name': 'Рубцова', 'city': 'Москва', 'flag_dr': 1}, 150271125: {'sex': 2, 'first_name': 'Макар', 'last_name': 'Макаров', 'city': 'Москва', 'flag_dr': 1, 'fl_degr': 1, 'fl_betw': 1}, 95753371: {'sex': 1, 'first_name': 'Елена', 'last_name': 'Шляхтина', 'city': 'Москва', 'flag_dr': 1}, 70124704: {'sex': 2, 'first_name': 'Александр', 'last_name': 'Суворов', 'city': 'Москва', 'flag_dr': 1}, 147414180: {'sex': 2, 'first_name': 'Вадим', 'last_name': 'Виль', 'city': 'Москва', 'flag_dr': 1, 'fl_degr': 1, 'fl_cent': 1, 'fl_betw': 1}, 49581222: {'sex': 2, 'first_name': 'Vladimir', 'last_name': 'Lazarev', 'city': 'Москва', 'flag_dr': 0}, 2053287: {'sex': 2, 'first_name': 'Владимир', 'last_name': 'Платонов', 'city': 'Москва', 'flag_dr': 1}, 65582247: {'sex': 1, 'first_name': 'Анастасия', 'last_name': 'Перцева', 'city': 'Москва', 'flag_dr': 1}, 181968047: {'sex': 2, 'first_name': 'Денис', 'last_name': 'Купляков', 'city': 'Москва', 'flag_dr': 1}, 222788786: {'sex': 1, 'first_name': 'Виктория', 'last_name': 'Михеева', 'city': 'Москва', 'flag_dr': 0}, 22009016: {'sex': 1, 'first_name': 'Вика', 'last_name': 'Высоцкая', 'city': 'Москва', 'flag_dr': 1}, 11971771: {'sex': 2, 'first_name': 'Максим', 'last_name': 'Щеголихин', 'city': 'Москва', 'flag_dr': 0}, 30436540: {'sex': 2, 'first_name': 'Сергей', 'last_name': 'Звездаков', 'city': 'Москва', 'flag_dr': 1}, 14920896: {'sex': 1, 'first_name': 'Полина', 'last_name': 'Попёнова', 'city': 'Уфа', 'flag_dr': 1}, 33363151: {'sex': 1, 'first_name': 'Аня', 'last_name': 'Милосердова', 'city': 'Москва', 'flag_dr': 0}, 17204436: {'sex': 2, 'first_name': 'Ярослав', 'last_name': 'Зыкин', 'city': 'Подольск', 'flag_dr': 1, 'fl_degr': 1}, 168664279: {'sex': 2, 'first_name': 'Федя', 'last_name': 'Фастовский', 'city': 'Москва', 'flag_dr': 1}, 98448615: {'sex': 2, 'first_name': 'Степан', 'last_name': 'Троешестов', 'city': 'Москва', 'flag_dr': 0}, 29005033: {'sex': 2, 'first_name': 'Артём', 'last_name': 'Козлов', 'city': 'Москва', 'flag_dr': 0}, 327664891: {'sex': 2, 'first_name': 'Евгений', 'last_name': 'Винарский', 'city': 'Томск', 'flag_dr': 1}, 11390211: {'sex': 2, 'first_name': 'Паша', 'last_name': 'Савин', 'city': 'Москва', 'flag_dr': 1}, 47084803: {'sex': 1, 'first_name': 'Виолетта', 'last_name': 'Кобзева', 'city': 'Москва', 'flag_dr': 1}, 62844180: {'sex': 1, 'first_name': 'Мария', 'last_name': 'Кулакова', 'city': 'Москва', 'flag_dr': 1, 'fl_degr': 1, 'fl_cent': 1, 'fl_betw': 1}, 53685530: {'sex': 2, 'first_name': 'Богдан', 'last_name': 'Камаев', 'city': 'Москва', 'flag_dr': 1, 'fl_degr': 1, 'fl_cent': 1, 'fl_betw': 1}, 13563180: {'sex': 2, 'first_name': 'Алексей', 'last_name': 'Панов', 'city': 'Москва', 'flag_dr': 1}, 430179629: {'sex': 2, 'first_name': 'Николай', 'last_name': 'Фастовец', 'city': 'Москва', 'flag_dr': 0}, 10321201: {'sex': 2, 'first_name': 'Владимир', 'last_name': 'Лопаткин', 'city': 'Москва', 'flag_dr': 1}, 153007409: {'sex': 2, 'first_name': 'Алексей', 'last_name': 'Поздняков', 'city': 'Москва', 'flag_dr': 0}, 41166136: {'sex': 2, 'first_name': 'Даниил', 'last_name': 'Добровецкий', 'city': 'Москва', 'flag_dr': 1}, 120356157: {'sex': 2, 'first_name': 'Дмитрий', 'last_name': 'Золотарев', 'city': 'Москва', 'flag_dr': 1}, 97588547: {'sex': 1, 'first_name': 'Полина', 'last_name': 'Кожевец', 'city': 'Москва', 'flag_dr': 1}, 192884042: {'sex': 2, 'first_name': 'Крафтер', 'last_name': 'Колян', 'city': 'Москва', 'flag_dr': 1}, 195179851: {'sex': 2, 'first_name': 'Сергей', 'last_name': 'Ананьев', 'city': -1, 'flag_dr': 1}, 94899535: {'sex': 2, 'first_name': 'Азамат', 'last_name': 'Мифтахов', 'city': -1, 'flag_dr': 1}, 136117590: {'sex': 1, 'first_name': 'Татьяна', 'last_name': 'Дмитриева', 'city': 'Уфа', 'flag_dr': 1}, 46546269: {'sex': 2, 'first_name': 'Данила', 'last_name': 'Пучкин', 'city': 'Подольск', 'flag_dr': 1}, 19156320: {'sex': 2, 'first_name': 'Станислав', 'last_name': 'Абухович', 'city': 'Москва', 'flag_dr': 1}, 19547491: {'sex': 2, 'first_name': 'Антон', 'last_name': 'Козодой', 'city': 'Москва', 'flag_dr': 0}, 103093603: {'sex': 2, 'first_name': 'Лева', 'last_name': 'Пантюхин', 'city': 'Москва', 'flag_dr': 1, 'fl_cent': 1}, 34436457: {'sex': 1, 'first_name': 'Кристина', 'last_name': 'Гуртова', 'city': 'Москва', 'flag_dr': 1}, 142294381: {'sex': 2, 'first_name': 'Лёша', 'last_name': 'Гусаров', 'city': 'Москва', 'flag_dr': 1}, 267418991: {'sex': 1, 'first_name': 'Настя', 'last_name': 'Кириллова', 'city': -1, 'flag_dr': 1, 'fl_degr': 1, 'fl_cent': 1, 'fl_betw': 1}, 95919483: {'sex': 1, 'first_name': 'Анастасия', 'last_name': 'Широкова', 'city': -1, 'flag_dr': 1}, 22850944: {'sex': 1, 'first_name': 'Мария', 'last_name': 'Соломатова', 'city': 'Москва', 'flag_dr': 1}, 48194945: {'sex': 1, 'first_name': 'Анна', 'last_name': 'Ефимова', 'city': 'Москва', 'flag_dr': 0}, 166770057: {'sex': 2, 'first_name': 'Андрей', 'last_name': 'Бирюков', 'city': -1, 'flag_dr': 0}, 145708429: {'sex': 2, 'first_name': 'Саша', 'last_name': 'Сахнов', 'city': 'Москва', 'flag_dr': 0}, 17194383: {'sex': 2, 'first_name': 'Олег', 'last_name': 'Чабан', 'city': 'Москва', 'flag_dr': 1, 'fl_degr': 1, 'fl_cent': 1, 'fl_betw': 1}, 75701647: {'sex': 1, 'first_name': 'Аида', 'last_name': 'Каспарова', 'city': -1, 'flag_dr': 1}, 53775764: {'sex': 2, 'first_name': 'Вова', 'last_name': 'Зарубин', 'city': -1, 'flag_dr': 0}, 118476181: {'sex': 1, 'first_name': 'Диана', 'last_name': 'Бочковенкова', 'city': 'Москва', 'flag_dr': 1, 'fl_degr': 1, 'fl_cent': 1, 'fl_betw': 1}, 42499509: {'sex': 2, 'first_name': 'Андрей', 'last_name': 'Волков', 'city': 'Астрахань', 'flag_dr': 0}, 117523893: {'sex': 1, 'first_name': 'Варвара', 'last_name': 'Толстикова', 'city': 'Дубна', 'flag_dr': 1, 'fl_degr': 1, 'fl_betw': 1}, 49370562: {'sex': 1, 'first_name': 'Ирина', 'last_name': 'Воробьёва', 'city': 'Москва', 'flag_dr': 1}, 10083784: {'sex': 1, 'first_name': 'Елена', 'last_name': 'Павлова', 'city': -1, 'flag_dr': 0}, 27082218: {'sex': 2, 'first_name': 'Максим', 'last_name': 'Зимнюков', 'city': 'Москва', 'flag_dr': 1}, 170112493: {'sex': 1, 'first_name': 'Анна', 'last_name': 'Суходоева', 'city': 'Москва', 'flag_dr': 1}, 24884721: {'sex': 1, 'first_name': 'Олеся', 'last_name': 'Облыгина', 'city': 'Москва', 'flag_dr': 1}, 14763506: {'sex': 2, 'first_name': 'Руслан', 'last_name': 'Иванов', 'city': 'Москва', 'flag_dr': 0}, 90713599: {'sex': 2, 'first_name': 'Misha', 'last_name': 'Kirichenko', 'city': 'Москва', 'flag_dr': 1}, 48322053: {'sex': 2, 'first_name': 'Егор', 'last_name': 'Тютюников', 'city': 'Москва', 'flag_dr': 1}, 159671814: {'sex': 2, 'first_name': 'Михаил', 'last_name': 'Солоткий', 'city': 'Москва', 'flag_dr': 0}, 158879248: {'sex': 2, 'first_name': 'Егор', 'last_name': 'Есенин', 'city': 'Москва', 'flag_dr': 1, 'fl_degr': 1, 'fl_cent': 1, 'fl_betw': 1}, 320429590: {'sex': 1, 'first_name': 'Александра', 'last_name': 'Ильина', 'city': -1, 'flag_dr': 1}, 225838619: {'sex': 2, 'first_name': 'Александр', 'last_name': 'Меркушев', 'city': -1, 'flag_dr': 1}, 19099170: {'sex': 1, 'first_name': 'Ольга', 'last_name': 'Моргунова', 'city': -1, 'flag_dr': 1, 'fl_cent': 1}, 183455266: {'sex': 2, 'first_name': 'Иван', 'last_name': 'Гудков', 'city': 'Москва', 'flag_dr': 1}, 138591781: {'sex': 1, 'first_name': 'Инициативная', 'last_name': 'Группа', 'city': 'Москва', 'flag_dr': 1}, 74339887: {'sex': 2, 'first_name': 'Алексей', 'last_name': 'Винокуров', 'city': -1, 'flag_dr': 1}, 75607601: {'sex': 1, 'first_name': 'Елена', 'last_name': 'Сясина', 'city': -1, 'flag_dr': 0}, 94350898: {'sex': 2, 'first_name': 'Павел', 'last_name': 'Лень', 'city': 'Москва', 'flag_dr': 0}, 135200310: {'sex': 2, 'first_name': 'Дмитрий', 'last_name': 'Пойманов', 'city': 'Москва', 'flag_dr': 1, 'fl_degr': 1, 'fl_cent': 1, 'fl_betw': 1}, 22091338: {'sex': 1, 'first_name': 'Лилия', 'last_name': 'Ахметзянова', 'city': 'Москва', 'flag_dr': 1}, 40236625: {'sex': 1, 'first_name': 'Настя', 'last_name': 'Московченко', 'city': 'Москва', 'flag_dr': 1, 'fl_degr': 1, 'fl_cent': 1, 'fl_betw': 1}, 81581650: {'sex': 1, 'first_name': 'Анастасия', 'last_name': 'Корушкина', 'city': 'Москва', 'flag_dr': 1, 'fl_degr': 1, 'fl_cent': 1, 'fl_betw': 1}, 229721705: {'sex': 1, 'first_name': 'Маргарита', 'last_name': 'Осипова', 'city': 'Москва', 'flag_dr': 1, 'fl_cent': 1}, 138352234: {'sex': 2, 'first_name': 'Никита', 'last_name': 'Пименов', 'city': 'Краснозаводск', 'flag_dr': 1}, 7659115: {'sex': 1, 'first_name': 'Катя', 'last_name': 'Осипова', 'city': 'Москва', 'flag_dr': 1}, 7669356: {'sex': 2, 'first_name': 'Денис', 'last_name': 'Найкин', 'city': 'Москва', 'flag_dr': 1}, 427966057: {'sex': 2, 'first_name': 'Виктор', 'last_name': 'Пенкин', 'city': -1, 'flag_dr': 1}, 255611: {'sex': 2, 'first_name': 'Андрей', 'last_name': 'Шестимеров', 'city': 'Москва', 'flag_dr': 1}, 22351484: {'sex': 2, 'first_name': 'Роберт', 'last_name': 'Рахматуллин', 'city': 'Москва', 'flag_dr': 1, 'fl_degr': 1, 'fl_cent': 1, 'fl_betw': 1}, 11204221: {'sex': 2, 'first_name': 'Алексей', 'last_name': 'Гожев', 'city': 'Москва', 'flag_dr': 1, 'fl_degr': 1, 'fl_cent': 1, 'fl_betw': 1}, 121880197: {'sex': 1, 'first_name': 'Варя', 'last_name': 'Абрамова', 'city': 'Москва', 'flag_dr': 1}, 116008591: {'sex': 1, 'first_name': 'Елизавета', 'last_name': 'Алтухова', 'city': -1, 'flag_dr': 0}, 2528914: {'sex': 2, 'first_name': 'Егор', 'last_name': 'Хрулев', 'city': 'Москва', 'flag_dr': 0}, 166844057: {'sex': 1, 'first_name': 'Аня', 'last_name': 'Кеба', 'city': 'Москва', 'flag_dr': 1}, 107073179: {'sex': 1, 'first_name': 'Анастасия', 'last_name': 'Лемишевская', 'city': 'Москва', 'flag_dr': 1}, 31049373: {'sex': 2, 'first_name': 'Денис', 'last_name': 'Бибик', 'city': 'Москва', 'flag_dr': 1}, 30135968: {'sex': 1, 'first_name': 'Екатерина', 'last_name': 'Борисова', 'city': 'Москва', 'flag_dr': 1}, 226440871: {'sex': 2, 'first_name': 'Владислав', 'last_name': 'Королев', 'city': 'Москва', 'flag_dr': 1}, 173088425: {'sex': 1, 'first_name': 'Берта', 'last_name': 'Бетрозова', 'city': -1, 'flag_dr': 1}, 18120363: {'sex': 2, 'first_name': 'Федя', 'last_name': 'Ивачёв', 'city': 'Москва', 'flag_dr': 0}, 125261491: {'sex': 1, 'first_name': 'Алена', 'last_name': 'Парамонова', 'city': -1, 'flag_dr': 0}, 226524851: {'sex': 2, 'first_name': 'Тёма', 'last_name': 'Чижов', 'city': 'Москва', 'flag_dr': 1}, 134835896: {'sex': 2, 'first_name': 'Никита', 'last_name': 'Лебедев', 'city': 'Москва', 'flag_dr': 1}, 145876672: {'sex': 2, 'first_name': 'Факультет', 'last_name': 'Лучший', 'city': -1, 'flag_dr': 0}, 174786244: {'sex': 1, 'first_name': 'Олеся', 'last_name': 'Григорьева', 'city': 'Жуковский', 'flag_dr': 1}, 510092998: {'sex': 2, 'first_name': 'Павел', 'last_name': 'Дмитриенков', 'city': 'Москва', 'flag_dr': 0}, 100615891: {'sex': 2, 'first_name': 'Даня', 'last_name': 'Чайчиц', 'city': 'Москва', 'flag_dr': 1}, 181270271: {'sex': 1, 'first_name': 'Уля', 'last_name': 'Самофалова', 'city': 'Москва', 'flag_dr': 1, 'fl_degr': 1}, 191966980: {'sex': 2, 'first_name': 'Виталий', 'last_name': 'Минаев', 'city': -1, 'flag_dr': 0}, 225619718: {'sex': 1, 'first_name': 'Мариси', 'last_name': 'Мариси', 'city': 'Москва', 'flag_dr': 1, 'fl_degr': 1}, 331011848: {'sex': 2, 'first_name': 'Даниил', 'last_name': 'Хомский', 'city': 'Уфа', 'flag_dr': 1}, 153075469: {'sex': 2, 'first_name': 'Николай', 'last_name': 'Зенкин', 'city': 'Москва', 'flag_dr': 0}, 187522830: {'sex': 1, 'first_name': 'Лилит', 'last_name': 'Атанесян', 'city': 'Москва', 'flag_dr': 1}, 106506001: {'sex': 1, 'first_name': 'Мария', 'last_name': 'Григорьева', 'city': 'Новосибирск', 'flag_dr': 1}, 72709916: {'sex': 2, 'first_name': 'Дмитрий', 'last_name': 'Калашников', 'city': -1, 'flag_dr': 1}, 35964702: {'sex': 2, 'first_name': 'Макс', 'last_name': 'Куликов', 'city': 'Москва', 'flag_dr': 1}, 63201054: {'sex': 1, 'first_name': 'Арина', 'last_name': 'Мамаева', 'city': 'Дедовск', 'flag_dr': 1}, 161629989: {'sex': 1, 'first_name': 'Дарья', 'last_name': 'Озерова', 'city': 'Москва', 'flag_dr': 1}, 87283494: {'sex': 1, 'first_name': 'Юля', 'last_name': 'Линза', 'city': -1, 'flag_dr': 0}, 137559869: {'sex': 2, 'first_name': 'Эдгар', 'last_name': 'Оганисян', 'city': 'Москва', 'flag_dr': 1}, 216524606: {'sex': 2, 'first_name': 'Арсен', 'last_name': 'Исмагилов', 'city': 'Москва', 'flag_dr': 0}, 12080959: {'sex': 1, 'first_name': 'Яна', 'last_name': 'Корнеева', 'city': 'Москва', 'flag_dr': 1}, 188835649: {'sex': 1, 'first_name': 'Катя', 'last_name': 'Вахрушина', 'city': 'Москва', 'flag_dr': 1}, 132316994: {'sex': 2, 'first_name': 'Глеб', 'last_name': 'Соловьёв', 'city': 'Москва', 'flag_dr': 0}, 9355086: {'sex': 2, 'first_name': 'Кирилл', 'last_name': 'Бербер', 'city': 'Санкт-Петербург', 'flag_dr': 1}, 14413647: {'sex': 2, 'first_name': 'Артём', 'last_name': 'Попов', 'city': 'Москва', 'flag_dr': 1}, 59969367: {'sex': 1, 'first_name': 'Александра', 'last_name': 'Никандрова', 'city': 'Самара', 'flag_dr': 0}, 31242075: {'sex': 2, 'first_name': 'Иван', 'last_name': 'Родин', 'city': 'Москва', 'flag_dr': 1}, 139689820: {'sex': 2, 'first_name': 'Александр', 'last_name': 'Громов', 'city': 'Москва', 'flag_dr': 0}, 19871579: {'sex': 2, 'first_name': 'Серега', 'last_name': 'Морев', 'city': -1, 'flag_dr': 0}, 382111579: {'sex': 2, 'first_name': 'Александр', 'last_name': 'Махов', 'city': 'München', 'flag_dr': 1}, 11423592: {'sex': 1, 'first_name': 'Светлана', 'last_name': 'Лукьяненко', 'city': 'Москва', 'flag_dr': 0}, 44265324: {'sex': 2, 'first_name': 'Виктор', 'last_name': 'Исаков', 'city': 'Химки', 'flag_dr': 0, 'fl_cent': 1, 'fl_betw': 1}, 135098220: {'sex': 2, 'first_name': 'Игорь', 'last_name': 'Кулешов', 'city': 'Москва', 'flag_dr': 1, 'fl_degr': 1, 'fl_cent': 1, 'fl_betw': 1}, 11079535: {'sex': 1, 'first_name': 'Сашенька', 'last_name': 'Давлетшина', 'city': 'Королёв', 'flag_dr': 1, 'fl_degr': 1, 'fl_cent': 1, 'fl_betw': 1}, 86497136: {'sex': 1, 'first_name': 'Женя', 'last_name': 'Сомкина', 'city': 'Москва', 'flag_dr': 0}, 286900088: {'sex': 1, 'first_name': 'Аня', 'last_name': 'Степко', 'city': -1, 'flag_dr': 1}, 4949882: {'sex': 1, 'first_name': 'Анастасия', 'last_name': 'Титова', 'city': 'Москва', 'flag_dr': 1}, 168707963: {'sex': 2, 'first_name': 'Евгений', 'last_name': 'Гончаренко', 'city': 'Москва', 'flag_dr': 1, 'fl_degr': 1, 'fl_betw': 1}, 144258940: {'sex': 1, 'first_name': 'Алиса', 'last_name': 'Боос', 'city': 'Москва', 'flag_dr': 0}, 26181523: {'sex': 2, 'first_name': 'Али', 'last_name': 'Асадов', 'city': 'Москва', 'flag_dr': 1}, 259508121: {'sex': 2, 'first_name': 'Павел', 'last_name': 'Юкин', 'city': 'Москва', 'flag_dr': 0, 'fl_degr': 1, 'fl_cent': 1, 'fl_betw': 1}, 197173151: {'sex': 2, 'first_name': 'Данил', 'last_name': 'Балабин', 'city': -1, 'flag_dr': 1}, 531644326: {'sex': 2, 'first_name': 'Bogdan', 'last_name': 'Krapivin', 'city': 'Москва', 'flag_dr': 1}, 25028519: {'sex': 1, 'first_name': 'Саша', 'last_name': 'Мельникова', 'city': 'Королёв', 'flag_dr': 1}, 222263207: {'sex': 1, 'first_name': 'Анна', 'last_name': 'Инициативная', 'city': 'Москва', 'flag_dr': 1, 'fl_cent': 1}, 15155121: {'sex': 1, 'first_name': 'Вика', 'last_name': 'Курбацкая', 'city': 'Москва', 'flag_dr': 1}, 62359475: {'sex': 2, 'first_name': 'Ярослав', 'last_name': 'Козлов', 'city': 'Орёл', 'flag_dr': 0}, 50948023: {'sex': 2, 'first_name': 'Егор', 'last_name': 'Цветков', 'city': 'Москва', 'flag_dr': 1}, 4689850: {'sex': 1, 'first_name': 'Наташа', 'last_name': 'Смирнова', 'city': 'Москва', 'flag_dr': 1}, 17299402: {'sex': 2, 'first_name': 'Олег', 'last_name': 'Леонов', 'city': 'Москва', 'flag_dr': 1}, 195516362: {'sex': 2, 'first_name': 'Максим', 'last_name': 'Орлов', 'city': 'Москва', 'flag_dr': 1}, 121358284: {'sex': 1, 'first_name': 'Анастасия', 'last_name': 'Максимова', 'city': 'Москва', 'flag_dr': 1}, 90603469: {'sex': 2, 'first_name': 'Руслан', 'last_name': 'Бегишев', 'city': 'Москва', 'flag_dr': 1}, 82667476: {'sex': 2, 'first_name': 'Адис', 'last_name': 'Давлетов', 'city': 'Москва', 'flag_dr': 1}, 106479573: {'sex': 1, 'first_name': 'Наталья', 'last_name': 'Енина', 'city': 'Москва', 'flag_dr': 1}, 446937055: {'sex': 1, 'first_name': 'Инициативная', 'last_name': 'Группа', 'city': 'Москва', 'flag_dr': 0}, 337098724: {'sex': 2, 'first_name': 'Дмитрий', 'last_name': 'Демин', 'city': -1, 'flag_dr': 1}, 2779113: {'sex': 2, 'first_name': 'Владимир', 'last_name': 'Шишлов', 'city': 'Москва', 'flag_dr': 0}, 5332970: {'sex': 2, 'first_name': 'Артем', 'last_name': 'Савадян', 'city': 'Москва', 'flag_dr': 0}, 47022060: {'sex': 2, 'first_name': 'Александр', 'last_name': 'Комиссаров', 'city': 'Москва', 'flag_dr': 1}, 147199981: {'sex': 2, 'first_name': 'Борис', 'last_name': 'Кожевников', 'city': 'Москва', 'flag_dr': 0}, 139137006: {'sex': 1, 'first_name': 'Оля', 'last_name': 'Зайцева', 'city': 'Москва', 'flag_dr': 1, 'fl_cent': 1}, 94312428: {'sex': 1, 'first_name': 'Регина', 'last_name': 'Бежанян', 'city': 'Москва', 'flag_dr': 1}, 38506495: {'sex': 2, 'first_name': 'DELETED', 'last_name': '', 'city': -1, 'flag_dr': 0}})"
      ]
     },
     "execution_count": 52,
     "metadata": {},
     "output_type": "execute_result"
    }
   ],
   "source": [
    "gg.nodes.data()"
   ]
  },
  {
   "cell_type": "code",
   "execution_count": 53,
   "metadata": {},
   "outputs": [],
   "source": [
    "nx.write_graphml(gg, 'cmcsovet_v2.graphml')"
   ]
  },
  {
   "cell_type": "code",
   "execution_count": null,
   "metadata": {},
   "outputs": [],
   "source": []
  },
  {
   "cell_type": "markdown",
   "metadata": {},
   "source": [
    "degree_centrality"
   ]
  },
  {
   "cell_type": "markdown",
   "metadata": {},
   "source": [
    "<center><img src='7.png', width=1200></center>"
   ]
  },
  {
   "cell_type": "markdown",
   "metadata": {},
   "source": [
    "<center><img src='8.png', width=1200></center>"
   ]
  },
  {
   "cell_type": "markdown",
   "metadata": {},
   "source": [
    "closeness_centrality"
   ]
  },
  {
   "cell_type": "markdown",
   "metadata": {},
   "source": [
    "<center><img src='9.png', width=1200></center>"
   ]
  },
  {
   "cell_type": "markdown",
   "metadata": {},
   "source": [
    "<center><img src='10.png', width=1200></center>"
   ]
  },
  {
   "cell_type": "markdown",
   "metadata": {},
   "source": [
    "betweenness_centrality"
   ]
  },
  {
   "cell_type": "markdown",
   "metadata": {},
   "source": [
    "<center><img src='11.png', width=1200></center>"
   ]
  },
  {
   "cell_type": "markdown",
   "metadata": {},
   "source": [
    "<center><img src='12.png', width=1200></center>"
   ]
  }
 ],
 "metadata": {
  "anaconda-cloud": {},
  "kernelspec": {
   "display_name": "Python 3",
   "language": "python",
   "name": "python3"
  },
  "language_info": {
   "codemirror_mode": {
    "name": "ipython",
    "version": 3
   },
   "file_extension": ".py",
   "mimetype": "text/x-python",
   "name": "python",
   "nbconvert_exporter": "python",
   "pygments_lexer": "ipython3",
   "version": "3.7.4"
  },
  "nav_menu": {},
  "toc": {
   "base_numbering": 1,
   "nav_menu": {
    "height": "347px",
    "width": "253px"
   },
   "number_sections": false,
   "sideBar": true,
   "skip_h1_title": false,
   "title_cell": "Table of Contents",
   "title_sidebar": "Contents",
   "toc_cell": false,
   "toc_position": {
    "height": "100px",
    "left": "46px",
    "right": "398.5px",
    "top": "111.133px",
    "width": "165px"
   },
   "toc_section_display": true,
   "toc_window_display": true
  },
  "toc_position": {
   "height": "40px",
   "left": "816px",
   "right": "38.6667px",
   "top": "0px",
   "width": "212px"
  }
 },
 "nbformat": 4,
 "nbformat_minor": 1
}
